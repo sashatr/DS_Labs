{
 "cells": [
  {
   "cell_type": "markdown",
   "metadata": {},
   "source": [
    "# Комп’ютерний практикум 9. Розпізнавання рукописних чисел згортковою нейронною мережею."
   ]
  },
  {
   "cell_type": "code",
   "execution_count": 1,
   "metadata": {},
   "outputs": [],
   "source": [
    "import torch\n",
    "import random\n",
    "import numpy as np\n",
    "import torchvision.datasets\n",
    "import matplotlib.pyplot as plt"
   ]
  },
  {
   "cell_type": "code",
   "execution_count": 2,
   "metadata": {},
   "outputs": [],
   "source": [
    "random.seed(0)\n",
    "np.random.seed(0)\n",
    "torch.manual_seed(0)\n",
    "torch.cuda.manual_seed(0)\n",
    "torch.backends.cudnn.deterministic = True"
   ]
  },
  {
   "cell_type": "code",
   "execution_count": 3,
   "metadata": {},
   "outputs": [
    {
     "name": "stdout",
     "output_type": "stream",
     "text": [
      "60000 10000\n"
     ]
    },
    {
     "name": "stderr",
     "output_type": "stream",
     "text": [
      "/home/sashatr/Desktop/projects/education/labs/venv/lib/python3.6/site-packages/torchvision/datasets/mnist.py:55: UserWarning: train_data has been renamed data\n",
      "  warnings.warn(\"train_data has been renamed data\")\n",
      "/home/sashatr/Desktop/projects/education/labs/venv/lib/python3.6/site-packages/torchvision/datasets/mnist.py:45: UserWarning: train_labels has been renamed targets\n",
      "  warnings.warn(\"train_labels has been renamed targets\")\n",
      "/home/sashatr/Desktop/projects/education/labs/venv/lib/python3.6/site-packages/torchvision/datasets/mnist.py:60: UserWarning: test_data has been renamed data\n",
      "  warnings.warn(\"test_data has been renamed data\")\n",
      "/home/sashatr/Desktop/projects/education/labs/venv/lib/python3.6/site-packages/torchvision/datasets/mnist.py:50: UserWarning: test_labels has been renamed targets\n",
      "  warnings.warn(\"test_labels has been renamed targets\")\n"
     ]
    }
   ],
   "source": [
    "MNIST_train = torchvision.datasets.MNIST('./', download=True, train=True)\n",
    "MNIST_test = torchvision.datasets.MNIST('./', download=True, train=False)\n",
    "\n",
    "X_train = MNIST_train.train_data\n",
    "y_train = MNIST_train.train_labels\n",
    "X_test = MNIST_test.test_data\n",
    "y_test = MNIST_test.test_labels\n",
    "print(len(y_train), len(y_test))"
   ]
  },
  {
   "cell_type": "code",
   "execution_count": 4,
   "metadata": {},
   "outputs": [
    {
     "data": {
      "image/png": "[encoded data removed]",
      "text/plain": [
       "<Figure size 432x288 with 1 Axes>"
      ]
     },
     "metadata": {
      "needs_background": "light"
     },
     "output_type": "display_data"
    },
    {
     "name": "stdout",
     "output_type": "stream",
     "text": [
      "tensor(5)\n"
     ]
    }
   ],
   "source": [
    "plt.imshow(X_train[0, :, :])\n",
    "plt.show()\n",
    "print(y_train[0])"
   ]
  },
  {
   "cell_type": "code",
   "execution_count": 5,
   "metadata": {},
   "outputs": [
    {
     "name": "stdout",
     "output_type": "stream",
     "text": [
      "torch.Size([60000, 28, 28])\n",
      "torch.Size([60000, 1, 28, 28])\n"
     ]
    }
   ],
   "source": [
    "print(X_train.shape)\n",
    "X_train = X_train.unsqueeze(1).float()\n",
    "X_test = X_test.unsqueeze(1).float()\n",
    "print(X_train.shape)"
   ]
  },
  {
   "cell_type": "code",
   "execution_count": 6,
   "metadata": {},
   "outputs": [],
   "source": [
    "class LeNet5(torch.nn.Module):\n",
    "    def __init__(self):\n",
    "        super(LeNet5, self).__init__()\n",
    "\n",
    "        self.conv1 = torch.nn.Conv2d(in_channels=1, out_channels=6, kernel_size=5, padding=2)\n",
    "        self.act1 = torch.nn.Tanh()\n",
    "        self.pool1 = torch.nn.AvgPool2d(kernel_size=2, stride=2)\n",
    "\n",
    "        self.conv2 = torch.nn.Conv2d(in_channels=6, out_channels=16, kernel_size=5, padding=0)\n",
    "        self.act2 = torch.nn.Tanh()\n",
    "        self.pool2 = torch.nn.AvgPool2d(kernel_size=2, stride=2)\n",
    "\n",
    "        self.fc1 = torch.nn.Linear(5 * 5 * 16, 120)\n",
    "        self.act3 = torch.nn.Tanh()\n",
    "\n",
    "        self.fc2 = torch.nn.Linear(120, 84)\n",
    "        self.act4 = torch.nn.Tanh()\n",
    "\n",
    "        self.fc3 = torch.nn.Linear(84, 10)\n",
    "\n",
    "    def forward(self, x):\n",
    "        x = self.conv1(x)\n",
    "        x = self.act1(x)\n",
    "        x = self.pool1(x)\n",
    "\n",
    "        x = self.conv2(x)\n",
    "        x = self.act2(x)\n",
    "        x = self.pool2(x)\n",
    "\n",
    "        x = x.view(x.size(0), x.size(1) * x.size(2) * x.size(3))\n",
    "        x = self.fc1(x)\n",
    "        x = self.act3(x)\n",
    "        x = self.fc2(x)\n",
    "        x = self.act4(x)\n",
    "        x = self.fc3(x)\n",
    "\n",
    "        return x\n",
    "    \n",
    "\n",
    "lenet5 = LeNet5()"
   ]
  },
  {
   "cell_type": "markdown",
   "metadata": {},
   "source": [
    "## Завдання. Підберіть параметри паденгу"
   ]
  },
  {
   "cell_type": "code",
   "execution_count": 7,
   "metadata": {},
   "outputs": [],
   "source": [
    "N = 4\n",
    "C = 3\n",
    "C_out = 10\n",
    "H = 8\n",
    "W = 16"
   ]
  },
  {
   "cell_type": "code",
   "execution_count": 8,
   "metadata": {},
   "outputs": [
    {
     "name": "stdout",
     "output_type": "stream",
     "text": [
      "torch.Size([4, 10, 8, 16])\n"
     ]
    }
   ],
   "source": [
    "x = torch.ones((N, C, H, W))\n",
    "out = torch.nn.Conv2d(C, C_out, kernel_size=(3, 3), padding=1)(x)\n",
    "print(out.shape) # torch.Size([4, 10, 8, 16])"
   ]
  },
  {
   "cell_type": "code",
   "execution_count": 9,
   "metadata": {},
   "outputs": [
    {
     "name": "stdout",
     "output_type": "stream",
     "text": [
      "torch.Size([4, 10, 8, 16])\n"
     ]
    }
   ],
   "source": [
    "out = torch.nn.Conv2d(C, C_out, kernel_size=(5, 5), padding=2)(x)\n",
    "print(out.shape) # torch.Size([4, 10, 8, 16])"
   ]
  },
  {
   "cell_type": "code",
   "execution_count": 10,
   "metadata": {},
   "outputs": [
    {
     "name": "stdout",
     "output_type": "stream",
     "text": [
      "torch.Size([4, 10, 8, 16])\n"
     ]
    }
   ],
   "source": [
    "out = torch.nn.Conv2d(C, C_out, kernel_size=(7, 7), padding=3)(x)\n",
    "print(out.shape) # torch.Size([4, 10, 8, 16])"
   ]
  },
  {
   "cell_type": "code",
   "execution_count": 11,
   "metadata": {},
   "outputs": [
    {
     "name": "stdout",
     "output_type": "stream",
     "text": [
      "torch.Size([4, 10, 8, 16])\n"
     ]
    }
   ],
   "source": [
    "out = torch.nn.Conv2d(C, C_out, kernel_size=(9, 9), padding=4)(x)\n",
    "print(out.shape) # torch.Size([4, 10, 8, 16])"
   ]
  },
  {
   "cell_type": "code",
   "execution_count": 12,
   "metadata": {},
   "outputs": [
    {
     "name": "stdout",
     "output_type": "stream",
     "text": [
      "torch.Size([4, 10, 8, 16])\n"
     ]
    }
   ],
   "source": [
    "out = torch.nn.Conv2d(C, C_out, kernel_size=(3, 5), padding=(1, 2))(x)\n",
    "print(out.shape) # torch.Size([4, 10, 8, 16])"
   ]
  },
  {
   "cell_type": "code",
   "execution_count": 13,
   "metadata": {},
   "outputs": [
    {
     "name": "stdout",
     "output_type": "stream",
     "text": [
      "torch.Size([4, 10, 22, 30])\n"
     ]
    }
   ],
   "source": [
    "out = torch.nn.Conv2d(C, C_out, kernel_size=(3, 3), padding=8)(x)\n",
    "print(out.shape) # torch.Size([4, 10, 22, 30])"
   ]
  },
  {
   "cell_type": "code",
   "execution_count": 14,
   "metadata": {},
   "outputs": [
    {
     "name": "stdout",
     "output_type": "stream",
     "text": [
      "torch.Size([4, 10, 7, 15])\n"
     ]
    }
   ],
   "source": [
    "out = torch.nn.Conv2d(C, C_out, kernel_size=(4, 4), padding=1)(x)\n",
    "print(out.shape) # torch.Size([4, 10, 7, 15])"
   ]
  },
  {
   "cell_type": "code",
   "execution_count": 15,
   "metadata": {},
   "outputs": [
    {
     "name": "stdout",
     "output_type": "stream",
     "text": [
      "torch.Size([4, 10, 9, 17])\n"
     ]
    }
   ],
   "source": [
    "out = torch.nn.Conv2d(C, C_out, kernel_size=(2, 2), padding=1)(x)\n",
    "print(out.shape) # torch.Size([4, 10, 9, 17])"
   ]
  },
  {
   "cell_type": "markdown",
   "metadata": {},
   "source": [
    "## Навчання"
   ]
  },
  {
   "cell_type": "code",
   "execution_count": 16,
   "metadata": {},
   "outputs": [],
   "source": [
    "device = torch.device('cuda:0' if torch.cuda.is_available() else 'cpu')\n",
    "lenet5 = lenet5.to(device)"
   ]
  },
  {
   "cell_type": "code",
   "execution_count": 17,
   "metadata": {},
   "outputs": [],
   "source": [
    "loss = torch.nn.CrossEntropyLoss()\n",
    "optimizer = torch.optim.Adam(lenet5.parameters(), lr=1.0e-3)"
   ]
  },
  {
   "cell_type": "code",
   "execution_count": 18,
   "metadata": {},
   "outputs": [
    {
     "name": "stdout",
     "output_type": "stream",
     "text": [
      "0 tensor(0.9761)\n",
      "10 tensor(0.9878)\n",
      "20 tensor(0.9878)\n",
      "30 tensor(0.9889)\n",
      "40 tensor(0.9890)\n",
      "50 tensor(0.9904)\n",
      "60 tensor(0.9907)\n",
      "70 tensor(0.9898)\n",
      "80 tensor(0.9893)\n",
      "90 tensor(0.9898)\n"
     ]
    }
   ],
   "source": [
    "batch_size = 100\n",
    "\n",
    "test_accuracy_history = []\n",
    "test_loss_history = []\n",
    "\n",
    "X_test = X_test.to(device)\n",
    "y_test = y_test.to(device)\n",
    "\n",
    "for epoch in range(100):\n",
    "    order = np.random.permutation(len(X_train))\n",
    "    for start_index in range(0, len(X_train), batch_size):\n",
    "        optimizer.zero_grad()\n",
    "        \n",
    "        batch_indexes = order[start_index:start_index+batch_size]\n",
    "        X_batch = X_train[batch_indexes].to(device)\n",
    "        y_batch = y_train[batch_indexes].to(device)\n",
    "        \n",
    "        preds = lenet5.forward(X_batch)\n",
    "        loss_value = loss(preds, y_batch)\n",
    "\n",
    "        loss_value.backward()\n",
    "        optimizer.step()\n",
    "        \n",
    "    test_preds = lenet5.forward(X_test)\n",
    "    test_loss_history.append(loss(test_preds, y_test).data.cpu())\n",
    "    accuracy = (test_preds.argmax(dim=1) == y_test).float().mean().data.cpu()\n",
    "    test_accuracy_history.append(accuracy)\n",
    "    \n",
    "    if epoch % 10 == 0:\n",
    "        print(epoch, accuracy)"
   ]
  },
  {
   "cell_type": "code",
   "execution_count": 19,
   "metadata": {},
   "outputs": [
    {
     "data": {
      "image/png": "[encoded data removed]",
      "text/plain": [
       "<Figure size 432x288 with 1 Axes>"
      ]
     },
     "metadata": {
      "needs_background": "light"
     },
     "output_type": "display_data"
    }
   ],
   "source": [
    "lenet5.forward(X_test)\n",
    "plt.plot(test_loss_history);"
   ]
  },
  {
   "cell_type": "code",
   "execution_count": 20,
   "metadata": {},
   "outputs": [
    {
     "data": {
      "image/png": "[encoded data removed]",
      "text/plain": [
       "<Figure size 432x288 with 1 Axes>"
      ]
     },
     "metadata": {
      "needs_background": "light"
     },
     "output_type": "display_data"
    }
   ],
   "source": [
    "plt.plot(test_accuracy_history);"
   ]
  },
  {
   "cell_type": "markdown",
   "metadata": {},
   "source": [
    "## Завдання "
   ]
  },
  {
   "cell_type": "markdown",
   "metadata": {},
   "source": [
    "1) Спробуйте домогтися якості 0.992 на даному датасета (в максимумі на\n",
    "валідації). Зверніть увагу на наступні моменти:\n",
    "Чи з'являється у вас перенавчання при збільшенні кількості епох?\n",
    "Як додавання різних шарів впливає на швидкість навчання (які шарів швидше:\n",
    "згорткові або повнозв'язні)?\n",
    "Пам'ятайте, що результат навчання може змінюватися в від запуску до запуску.\n",
    "Проаналізуйте дисперсію цільової метрики від запуску до запуску. Скільки\n",
    "запусків досить зробити, перед тим як стверджувати, що одна архітектура краща\n",
    "за іншу?\n",
    "\n",
    "2) Спробуйте аналогічні розрахунки для датасету CIFAR10. Використовуйте\n",
    "інформацію про датасет з минулої роботи. Змінить нашу мережу LeNet таким\n",
    "чином, щоб вона приймала зображення 32 на 32 і три канали на вході. Щоб\n",
    "передати їй три канали, потрібно в in_chanels першої ж згортки поставити \"3\"\n",
    "(раніше тут було \"1\"). А ось розмірність 32 на 32 у нас виходить з паддінга. Як\n",
    "ви пам'ятаєте, в оригінальному LeNet була розмірність 32 на 32 і там були\n",
    "нульові паддінгі, тобто згортка не виходили за зображення. Ми навмисно, в\n",
    "LeNet, для MNIST це змінювали, щоб у нас перша згортка виходила за\n",
    "зображення і після першої згортки було 28 на 28. А тепер ми, навпаки, хочемо\n",
    "щоб паддінга не було, і з розмірності 32 на 32 виходила розмірність 28 на 28.\n",
    "Відповідно, необхідно поставити паддінг \"0\". Більше нічого не змінюється -\n",
    "процес навчання не змінюється, він залишився таким же, як і раніше.\n",
    "\n",
    "3) Знайдіть оптимальну кількість епох для навчання, аналізуючи графіки втрат."
   ]
  },
  {
   "cell_type": "code",
   "execution_count": null,
   "metadata": {},
   "outputs": [],
   "source": []
  }
 ],
 "metadata": {
  "kernelspec": {
   "display_name": "Python 3",
   "language": "python",
   "name": "python3"
  },
  "language_info": {
   "codemirror_mode": {
    "name": "ipython",
    "version": 3
   },
   "file_extension": ".py",
   "mimetype": "text/x-python",
   "name": "python",
   "nbconvert_exporter": "python",
   "pygments_lexer": "ipython3",
   "version": "3.6.9"
  }
 },
 "nbformat": 4,
 "nbformat_minor": 4
}
