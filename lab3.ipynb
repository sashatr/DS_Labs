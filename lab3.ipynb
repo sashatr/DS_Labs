{
 "cells": [
  {
   "cell_type": "markdown",
   "metadata": {},
   "source": [
    "# Основи роботи з Pandas"
   ]
  },
  {
   "cell_type": "code",
   "execution_count": 1,
   "metadata": {},
   "outputs": [],
   "source": [
    "import pandas as pd\n",
    "import numpy as np"
   ]
  },
  {
   "cell_type": "code",
   "execution_count": 2,
   "metadata": {},
   "outputs": [
    {
     "name": "stdout",
     "output_type": "stream",
     "text": [
      "1.0.3\n"
     ]
    }
   ],
   "source": [
    "print(pd.__version__)"
   ]
  },
  {
   "cell_type": "markdown",
   "metadata": {},
   "source": [
    "# Titanic"
   ]
  },
  {
   "cell_type": "code",
   "execution_count": 197,
   "metadata": {},
   "outputs": [],
   "source": [
    "df = pd.read_csv('titanic-passengers.csv', sep=\";\", index_col='PassengerId')"
   ]
  },
  {
   "cell_type": "code",
   "execution_count": 198,
   "metadata": {},
   "outputs": [
    {
     "data": {
      "text/html": [
       "<div>\n",
       "<style scoped>\n",
       "    .dataframe tbody tr th:only-of-type {\n",
       "        vertical-align: middle;\n",
       "    }\n",
       "\n",
       "    .dataframe tbody tr th {\n",
       "        vertical-align: top;\n",
       "    }\n",
       "\n",
       "    .dataframe thead th {\n",
       "        text-align: right;\n",
       "    }\n",
       "</style>\n",
       "<table border=\"1\" class=\"dataframe\">\n",
       "  <thead>\n",
       "    <tr style=\"text-align: right;\">\n",
       "      <th></th>\n",
       "      <th>Survived</th>\n",
       "      <th>Pclass</th>\n",
       "      <th>Name</th>\n",
       "      <th>Sex</th>\n",
       "      <th>Age</th>\n",
       "      <th>SibSp</th>\n",
       "      <th>Parch</th>\n",
       "      <th>Ticket</th>\n",
       "      <th>Fare</th>\n",
       "      <th>Cabin</th>\n",
       "      <th>Embarked</th>\n",
       "    </tr>\n",
       "    <tr>\n",
       "      <th>PassengerId</th>\n",
       "      <th></th>\n",
       "      <th></th>\n",
       "      <th></th>\n",
       "      <th></th>\n",
       "      <th></th>\n",
       "      <th></th>\n",
       "      <th></th>\n",
       "      <th></th>\n",
       "      <th></th>\n",
       "      <th></th>\n",
       "      <th></th>\n",
       "    </tr>\n",
       "  </thead>\n",
       "  <tbody>\n",
       "    <tr>\n",
       "      <th>343</th>\n",
       "      <td>No</td>\n",
       "      <td>2</td>\n",
       "      <td>Collander, Mr. Erik Gustaf</td>\n",
       "      <td>male</td>\n",
       "      <td>28.0</td>\n",
       "      <td>0</td>\n",
       "      <td>0</td>\n",
       "      <td>248740</td>\n",
       "      <td>13.0000</td>\n",
       "      <td>NaN</td>\n",
       "      <td>S</td>\n",
       "    </tr>\n",
       "    <tr>\n",
       "      <th>76</th>\n",
       "      <td>No</td>\n",
       "      <td>3</td>\n",
       "      <td>Moen, Mr. Sigurd Hansen</td>\n",
       "      <td>male</td>\n",
       "      <td>25.0</td>\n",
       "      <td>0</td>\n",
       "      <td>0</td>\n",
       "      <td>348123</td>\n",
       "      <td>7.6500</td>\n",
       "      <td>F G73</td>\n",
       "      <td>S</td>\n",
       "    </tr>\n",
       "    <tr>\n",
       "      <th>641</th>\n",
       "      <td>No</td>\n",
       "      <td>3</td>\n",
       "      <td>Jensen, Mr. Hans Peder</td>\n",
       "      <td>male</td>\n",
       "      <td>20.0</td>\n",
       "      <td>0</td>\n",
       "      <td>0</td>\n",
       "      <td>350050</td>\n",
       "      <td>7.8542</td>\n",
       "      <td>NaN</td>\n",
       "      <td>S</td>\n",
       "    </tr>\n",
       "    <tr>\n",
       "      <th>568</th>\n",
       "      <td>No</td>\n",
       "      <td>3</td>\n",
       "      <td>Palsson, Mrs. Nils (Alma Cornelia Berglund)</td>\n",
       "      <td>female</td>\n",
       "      <td>29.0</td>\n",
       "      <td>0</td>\n",
       "      <td>4</td>\n",
       "      <td>349909</td>\n",
       "      <td>21.0750</td>\n",
       "      <td>NaN</td>\n",
       "      <td>S</td>\n",
       "    </tr>\n",
       "    <tr>\n",
       "      <th>672</th>\n",
       "      <td>No</td>\n",
       "      <td>1</td>\n",
       "      <td>Davidson, Mr. Thornton</td>\n",
       "      <td>male</td>\n",
       "      <td>31.0</td>\n",
       "      <td>1</td>\n",
       "      <td>0</td>\n",
       "      <td>F.C. 12750</td>\n",
       "      <td>52.0000</td>\n",
       "      <td>B71</td>\n",
       "      <td>S</td>\n",
       "    </tr>\n",
       "  </tbody>\n",
       "</table>\n",
       "</div>"
      ],
      "text/plain": [
       "            Survived  Pclass                                         Name  \\\n",
       "PassengerId                                                                 \n",
       "343               No       2                   Collander, Mr. Erik Gustaf   \n",
       "76                No       3                      Moen, Mr. Sigurd Hansen   \n",
       "641               No       3                       Jensen, Mr. Hans Peder   \n",
       "568               No       3  Palsson, Mrs. Nils (Alma Cornelia Berglund)   \n",
       "672               No       1                       Davidson, Mr. Thornton   \n",
       "\n",
       "                Sex   Age  SibSp  Parch      Ticket     Fare  Cabin Embarked  \n",
       "PassengerId                                                                   \n",
       "343            male  28.0      0      0      248740  13.0000    NaN        S  \n",
       "76             male  25.0      0      0      348123   7.6500  F G73        S  \n",
       "641            male  20.0      0      0      350050   7.8542    NaN        S  \n",
       "568          female  29.0      0      4      349909  21.0750    NaN        S  \n",
       "672            male  31.0      1      0  F.C. 12750  52.0000    B71        S  "
      ]
     },
     "execution_count": 198,
     "metadata": {},
     "output_type": "execute_result"
    }
   ],
   "source": [
    "df.head()"
   ]
  },
  {
   "cell_type": "markdown",
   "metadata": {},
   "source": [
    "1. Яка кількість чоловіків і жінок їхала на кораблі? Приведіть два числа через пробіл."
   ]
  },
  {
   "cell_type": "code",
   "execution_count": 199,
   "metadata": {},
   "outputs": [
    {
     "name": "stdout",
     "output_type": "stream",
     "text": [
      "кількість male_num: 314; кількість чоловіків:577\n"
     ]
    }
   ],
   "source": [
    "male_num = df[(df[\"Sex\"] == \"male\")].shape[0]\n",
    "female_num = df[(df[\"Sex\"] == \"female\")].shape[0]\n",
    "print(f\"кількість male_num: {int(female_num)}; кількість чоловіків:{int(male_num)}\")"
   ]
  },
  {
   "cell_type": "markdown",
   "metadata": {},
   "source": [
    "2. Якій частині пасажирів вдалося вижити? Порахуйте частку пасажирів, що вижили.<br>\n",
    "Відповідь приведіть у відсотках (число в інтервалі від 0 до 100, знак відсотка не\n",
    "потрібний), округливши до двох знаків."
   ]
  },
  {
   "cell_type": "code",
   "execution_count": 200,
   "metadata": {},
   "outputs": [
    {
     "name": "stdout",
     "output_type": "stream",
     "text": [
      "38%\n"
     ]
    }
   ],
   "source": [
    "all_passengers = df['Survived'].count()\n",
    "survived_passengers = df[(df[\"Survived\"] == \"Yes\")].shape[0]\n",
    "\n",
    "print(f\"{int(round(survived_passengers/all_passengers, 2) * 100)}%\")"
   ]
  },
  {
   "cell_type": "markdown",
   "metadata": {},
   "source": [
    "3. Яку частку пасажири першого класу складали серед всіх пасажирів?<br>\n",
    "Відповідь приведіть у відсотках (число в інтервалі від 0 до 100, знак відсотка не потрібний), округливши до двох знаків."
   ]
  },
  {
   "cell_type": "code",
   "execution_count": 201,
   "metadata": {},
   "outputs": [
    {
     "name": "stdout",
     "output_type": "stream",
     "text": [
      "24%\n"
     ]
    }
   ],
   "source": [
    "p_class_all = df['Pclass'].count()\n",
    "p_class_one = df[(df[\"Pclass\"] == 1)].shape[0]\n",
    "\n",
    "print(f\"{int(round(p_class_one/p_class_all, 2) * 100)}%\")"
   ]
  },
  {
   "cell_type": "markdown",
   "metadata": {},
   "source": [
    "4. Якого віку були пасажири? Порахуйте середнє і медіану віку пасажирів.<br>\n",
    "Як відповідь приведіть два числа через пробіл."
   ]
  },
  {
   "cell_type": "code",
   "execution_count": 202,
   "metadata": {},
   "outputs": [
    {
     "name": "stdout",
     "output_type": "stream",
     "text": [
      "mean: 29; median:28\n"
     ]
    }
   ],
   "source": [
    "passengers_age = df['Age']\n",
    "mean = passengers_age.mean()\n",
    "median = passengers_age.median()\n",
    "\n",
    "print(f\"mean: {int(mean)}; median:{int(median)}\")"
   ]
  },
  {
   "cell_type": "markdown",
   "metadata": {},
   "source": [
    "5. Чи корелює число братів / сестер / подружжя з числом батьків / дітей?<br>\n",
    "Порахуйте кореляцію Пірсона між ознаками SibSp і Parch."
   ]
  },
  {
   "cell_type": "code",
   "execution_count": 203,
   "metadata": {},
   "outputs": [
    {
     "name": "stdout",
     "output_type": "stream",
     "text": [
      "Pairwise correlation: 0.415\n"
     ]
    }
   ],
   "source": [
    "SibSp = df['SibSp']\n",
    "Parch = df['Parch']\n",
    "corr = SibSp.corr(Parch, method='pearson')\n",
    "\n",
    "print(f\"Pairwise correlation: {round(corr, 3)}\")"
   ]
  },
  {
   "cell_type": "markdown",
   "metadata": {},
   "source": [
    "6. Яке найпопулярніше жіноче ім'я на кораблі? Вийміть з повного імені пасажира (колонка Name) його особисте ім'я (First Name).<br>\n",
    "Спробуйте вручну розібрати кілька значень стовпця Name і виробити правило для вилучення імен, а також поділу їх на жіночі і чоловічі."
   ]
  },
  {
   "cell_type": "code",
   "execution_count": 204,
   "metadata": {},
   "outputs": [
    {
     "name": "stdout",
     "output_type": "stream",
     "text": [
      "First Name Male: ['Collander', 'Moen', 'Jensen', 'Davidson', 'Gustafsson']\n",
      "First Name Female: ['Palsson', 'Nakid', 'Louch', 'Haas', 'Herman']\n"
     ]
    }
   ],
   "source": [
    "male_names = list(df[(df[\"Sex\"] == \"male\")][\"Name\"])\n",
    "female_names = list(df[(df[\"Sex\"] == \"female\")][\"Name\"])\n",
    "\n",
    "male_first_names = [m.split(',')[0] for m in male_names]\n",
    "female_first_names = [m.split(',')[0] for m in female_names]\n",
    "\n",
    "print(f\"First Name Male: {male_first_names[:5]}\")\n",
    "print(f\"First Name Female: {female_first_names[:5]}\")"
   ]
  },
  {
   "cell_type": "markdown",
   "metadata": {},
   "source": [
    "# World University Rankings"
   ]
  },
  {
   "cell_type": "code",
   "execution_count": 288,
   "metadata": {},
   "outputs": [
    {
     "data": {
      "text/plain": [
       "(2200, 14)"
      ]
     },
     "execution_count": 288,
     "metadata": {},
     "output_type": "execute_result"
    }
   ],
   "source": [
    "df = pd.read_csv('cwurData.csv')\n",
    "df.shape"
   ]
  },
  {
   "cell_type": "code",
   "execution_count": 289,
   "metadata": {},
   "outputs": [
    {
     "data": {
      "text/html": [
       "<div>\n",
       "<style scoped>\n",
       "    .dataframe tbody tr th:only-of-type {\n",
       "        vertical-align: middle;\n",
       "    }\n",
       "\n",
       "    .dataframe tbody tr th {\n",
       "        vertical-align: top;\n",
       "    }\n",
       "\n",
       "    .dataframe thead th {\n",
       "        text-align: right;\n",
       "    }\n",
       "</style>\n",
       "<table border=\"1\" class=\"dataframe\">\n",
       "  <thead>\n",
       "    <tr style=\"text-align: right;\">\n",
       "      <th></th>\n",
       "      <th>world_rank</th>\n",
       "      <th>institution</th>\n",
       "      <th>country</th>\n",
       "      <th>national_rank</th>\n",
       "      <th>quality_of_education</th>\n",
       "      <th>alumni_employment</th>\n",
       "      <th>quality_of_faculty</th>\n",
       "      <th>publications</th>\n",
       "      <th>influence</th>\n",
       "      <th>citations</th>\n",
       "      <th>broad_impact</th>\n",
       "      <th>patents</th>\n",
       "      <th>score</th>\n",
       "      <th>year</th>\n",
       "    </tr>\n",
       "  </thead>\n",
       "  <tbody>\n",
       "    <tr>\n",
       "      <th>0</th>\n",
       "      <td>1</td>\n",
       "      <td>Harvard University</td>\n",
       "      <td>USA</td>\n",
       "      <td>1</td>\n",
       "      <td>7</td>\n",
       "      <td>9</td>\n",
       "      <td>1</td>\n",
       "      <td>1</td>\n",
       "      <td>1</td>\n",
       "      <td>1</td>\n",
       "      <td>NaN</td>\n",
       "      <td>5</td>\n",
       "      <td>100.00</td>\n",
       "      <td>2012</td>\n",
       "    </tr>\n",
       "    <tr>\n",
       "      <th>1</th>\n",
       "      <td>2</td>\n",
       "      <td>Massachusetts Institute of Technology</td>\n",
       "      <td>USA</td>\n",
       "      <td>2</td>\n",
       "      <td>9</td>\n",
       "      <td>17</td>\n",
       "      <td>3</td>\n",
       "      <td>12</td>\n",
       "      <td>4</td>\n",
       "      <td>4</td>\n",
       "      <td>NaN</td>\n",
       "      <td>1</td>\n",
       "      <td>91.67</td>\n",
       "      <td>2012</td>\n",
       "    </tr>\n",
       "    <tr>\n",
       "      <th>2</th>\n",
       "      <td>3</td>\n",
       "      <td>Stanford University</td>\n",
       "      <td>USA</td>\n",
       "      <td>3</td>\n",
       "      <td>17</td>\n",
       "      <td>11</td>\n",
       "      <td>5</td>\n",
       "      <td>4</td>\n",
       "      <td>2</td>\n",
       "      <td>2</td>\n",
       "      <td>NaN</td>\n",
       "      <td>15</td>\n",
       "      <td>89.50</td>\n",
       "      <td>2012</td>\n",
       "    </tr>\n",
       "    <tr>\n",
       "      <th>3</th>\n",
       "      <td>4</td>\n",
       "      <td>University of Cambridge</td>\n",
       "      <td>United Kingdom</td>\n",
       "      <td>1</td>\n",
       "      <td>10</td>\n",
       "      <td>24</td>\n",
       "      <td>4</td>\n",
       "      <td>16</td>\n",
       "      <td>16</td>\n",
       "      <td>11</td>\n",
       "      <td>NaN</td>\n",
       "      <td>50</td>\n",
       "      <td>86.17</td>\n",
       "      <td>2012</td>\n",
       "    </tr>\n",
       "    <tr>\n",
       "      <th>4</th>\n",
       "      <td>5</td>\n",
       "      <td>California Institute of Technology</td>\n",
       "      <td>USA</td>\n",
       "      <td>4</td>\n",
       "      <td>2</td>\n",
       "      <td>29</td>\n",
       "      <td>7</td>\n",
       "      <td>37</td>\n",
       "      <td>22</td>\n",
       "      <td>22</td>\n",
       "      <td>NaN</td>\n",
       "      <td>18</td>\n",
       "      <td>85.21</td>\n",
       "      <td>2012</td>\n",
       "    </tr>\n",
       "  </tbody>\n",
       "</table>\n",
       "</div>"
      ],
      "text/plain": [
       "   world_rank                            institution         country  \\\n",
       "0           1                     Harvard University             USA   \n",
       "1           2  Massachusetts Institute of Technology             USA   \n",
       "2           3                    Stanford University             USA   \n",
       "3           4                University of Cambridge  United Kingdom   \n",
       "4           5     California Institute of Technology             USA   \n",
       "\n",
       "   national_rank  quality_of_education  alumni_employment  quality_of_faculty  \\\n",
       "0              1                     7                  9                   1   \n",
       "1              2                     9                 17                   3   \n",
       "2              3                    17                 11                   5   \n",
       "3              1                    10                 24                   4   \n",
       "4              4                     2                 29                   7   \n",
       "\n",
       "   publications  influence  citations  broad_impact  patents   score  year  \n",
       "0             1          1          1           NaN        5  100.00  2012  \n",
       "1            12          4          4           NaN        1   91.67  2012  \n",
       "2             4          2          2           NaN       15   89.50  2012  \n",
       "3            16         16         11           NaN       50   86.17  2012  \n",
       "4            37         22         22           NaN       18   85.21  2012  "
      ]
     },
     "execution_count": 289,
     "metadata": {},
     "output_type": "execute_result"
    }
   ],
   "source": [
    "df.head()"
   ]
  },
  {
   "cell_type": "markdown",
   "metadata": {},
   "source": [
    "1. У рейтингу залиште тільки дані за 2015 рік."
   ]
  },
  {
   "cell_type": "code",
   "execution_count": 290,
   "metadata": {},
   "outputs": [
    {
     "data": {
      "text/plain": [
       "(1000, 14)"
      ]
     },
     "execution_count": 290,
     "metadata": {},
     "output_type": "execute_result"
    }
   ],
   "source": [
    "df_2015 = df[df['year'] == 2015]\n",
    "df_2015.shape"
   ]
  },
  {
   "cell_type": "markdown",
   "metadata": {},
   "source": [
    "2. Обчисліть максимальний, мінімальний і середній загальний бал світового рейтингу."
   ]
  },
  {
   "cell_type": "code",
   "execution_count": 291,
   "metadata": {},
   "outputs": [
    {
     "name": "stdout",
     "output_type": "stream",
     "text": [
      "максимальний:100.0; мінімальний:44.02; середній:46.86385\n"
     ]
    }
   ],
   "source": [
    "score = df_2015['score']\n",
    "\n",
    "mean = score.mean()\n",
    "min_ = score.min()\n",
    "max_ = score.max()\n",
    "\n",
    "print(f\"максимальний:{max_}; мінімальний:{min_}; середній:{mean}\")"
   ]
  },
  {
   "cell_type": "markdown",
   "metadata": {},
   "source": [
    "3. Для всіх згаданих країн виведіть кількість університетів, які увійшли до світового рейтингу.<br>\n",
    "Висновок організуйте спаданням кількості університетів."
   ]
  },
  {
   "cell_type": "code",
   "execution_count": 292,
   "metadata": {},
   "outputs": [
    {
     "data": {
      "text/plain": [
       "USA                     229\n",
       "China                    83\n",
       "Japan                    74\n",
       "United Kingdom           65\n",
       "Germany                  55\n",
       "France                   49\n",
       "Italy                    47\n",
       "Spain                    40\n",
       "South Korea              36\n",
       "Canada                   33\n",
       "Australia                27\n",
       "Taiwan                   21\n",
       "Brazil                   18\n",
       "India                    16\n",
       "Netherlands              13\n",
       "Austria                  12\n",
       "Sweden                   11\n",
       "Turkey                   10\n",
       "Belgium                  10\n",
       "Poland                    9\n",
       "Switzerland               9\n",
       "Finland                   9\n",
       "Iran                      8\n",
       "Ireland                   8\n",
       "Israel                    7\n",
       "Portugal                  7\n",
       "Greece                    7\n",
       "Hungary                   6\n",
       "New Zealand               6\n",
       "Hong Kong                 6\n",
       "Norway                    5\n",
       "Denmark                   5\n",
       "Russia                    5\n",
       "South Africa              5\n",
       "Czech Republic            5\n",
       "Egypt                     4\n",
       "Chile                     4\n",
       "Saudi Arabia              4\n",
       "Argentina                 3\n",
       "Malaysia                  3\n",
       "Thailand                  3\n",
       "Mexico                    2\n",
       "Slovenia                  2\n",
       "Singapore                 2\n",
       "Romania                   2\n",
       "Colombia                  2\n",
       "Uganda                    1\n",
       "Cyprus                    1\n",
       "Lithuania                 1\n",
       "Uruguay                   1\n",
       "Serbia                    1\n",
       "Slovak Republic           1\n",
       "Croatia                   1\n",
       "United Arab Emirates      1\n",
       "Puerto Rico               1\n",
       "Lebanon                   1\n",
       "Bulgaria                  1\n",
       "Estonia                   1\n",
       "Iceland                   1\n",
       "Name: country, dtype: int64"
      ]
     },
     "execution_count": 292,
     "metadata": {},
     "output_type": "execute_result"
    }
   ],
   "source": [
    "country = df_2015['country']\n",
    "country.value_counts()"
   ]
  },
  {
   "cell_type": "markdown",
   "metadata": {},
   "source": [
    "4. Обчисліть для кожної країни величину що є сумою загальних балів його університетів.<br>\n",
    "Висновок організуйте по спадаючій цієї величини."
   ]
  },
  {
   "cell_type": "code",
   "execution_count": 293,
   "metadata": {},
   "outputs": [
    {
     "data": {
      "text/plain": [
       "{'USA': 11475.240000000002,\n",
       " 'China': 3724.5800000000004,\n",
       " 'Japan': 3423.6299999999997,\n",
       " 'United Kingdom': 3120.3,\n",
       " 'Germany': 2543.1400000000003,\n",
       " 'France': 2258.1800000000003,\n",
       " 'Italy': 2126.85,\n",
       " 'Spain': 1793.8,\n",
       " 'South Korea': 1651.6499999999999,\n",
       " 'Canada': 1543.89,\n",
       " 'Australia': 1236.93,\n",
       " 'Taiwan': 944.03,\n",
       " 'Brazil': 803.39,\n",
       " 'India': 712.78,\n",
       " 'Netherlands': 627.1,\n",
       " 'Austria': 539.8500000000001,\n",
       " 'Sweden': 523.0,\n",
       " 'Belgium': 467.66,\n",
       " 'Switzerland': 453.57,\n",
       " 'Turkey': 443.34000000000003,\n",
       " 'Finland': 409.04,\n",
       " 'Poland': 399.07,\n",
       " 'Ireland': 360.92999999999995,\n",
       " 'Israel': 358.31,\n",
       " 'Iran': 353.31,\n",
       " 'Portugal': 314.67999999999995,\n",
       " 'Greece': 313.07,\n",
       " 'Hong Kong': 276.2,\n",
       " 'New Zealand': 269.54999999999995,\n",
       " 'Hungary': 266.47,\n",
       " 'Denmark': 240.27,\n",
       " 'Russia': 234.20999999999998,\n",
       " 'Norway': 232.62,\n",
       " 'South Africa': 230.49,\n",
       " 'Czech Republic': 223.40000000000003,\n",
       " 'Chile': 178.69,\n",
       " 'Saudi Arabia': 177.17,\n",
       " 'Egypt': 176.38,\n",
       " 'Thailand': 134.76,\n",
       " 'Malaysia': 134.12,\n",
       " 'Argentina': 133.78,\n",
       " 'Singapore': 102.72999999999999,\n",
       " 'Mexico': 89.84,\n",
       " 'Slovenia': 88.98,\n",
       " 'Colombia': 88.49000000000001,\n",
       " 'Romania': 88.08,\n",
       " 'Iceland': 44.91,\n",
       " 'Estonia': 44.68,\n",
       " 'Croatia': 44.62,\n",
       " 'Lebanon': 44.38,\n",
       " 'Slovak Republic': 44.38,\n",
       " 'Serbia': 44.33,\n",
       " 'Lithuania': 44.25,\n",
       " 'Bulgaria': 44.19,\n",
       " 'Uruguay': 44.16,\n",
       " 'Uganda': 44.16,\n",
       " 'Cyprus': 44.1,\n",
       " 'United Arab Emirates': 44.08,\n",
       " 'Puerto Rico': 44.06}"
      ]
     },
     "execution_count": 293,
     "metadata": {},
     "output_type": "execute_result"
    }
   ],
   "source": [
    "res = {}\n",
    "\n",
    "countries = df_2015.country.unique()\n",
    "for c in countries:\n",
    "    df_ = df_2015[df_2015['country'] == c]\n",
    "    score_all = df_['score'].sum()\n",
    "    res[c] = score_all\n",
    "    \n",
    "{k: v for k, v in sorted(res.items(), key=lambda item: item[1], reverse=True)}"
   ]
  },
  {
   "cell_type": "markdown",
   "metadata": {},
   "source": [
    "5. Обчисліть кращий університет для кожної країни, висновок організуйте по цій величині."
   ]
  },
  {
   "cell_type": "code",
   "execution_count": 313,
   "metadata": {},
   "outputs": [
    {
     "name": "stdout",
     "output_type": "stream",
     "text": [
      "USA Harvard University 100.0\n",
      "United Kingdom University of Cambridge 96.81\n",
      "Japan University of Tokyo 78.23\n",
      "Switzerland Swiss Federal Institute of Technology in Zurich 66.93\n",
      "Israel Hebrew University of Jerusalem 65.71\n",
      "South Korea Seoul National University 64.82\n",
      "Canada University of Toronto 60.04\n",
      "France École Polytechnique 59.2\n",
      "China Peking University 54.26\n",
      "Taiwan National Taiwan University 54.23\n",
      "Russia Lomonosov Moscow State University 54.19\n",
      "Singapore National University of Singapore 53.44\n",
      "Sweden Karolinska Institute 52.79\n",
      "Denmark University of Copenhagen 52.51\n",
      "Germany Ruprecht Karl University of Heidelberg 52.32\n",
      "Belgium Katholieke Universiteit Leuven 52.03\n",
      "Netherlands Erasmus University Rotterdam 51.78\n",
      "Australia University of Sydney 51.61\n",
      "Norway University of Oslo 50.81\n",
      "Finland University of Helsinki 50.04\n",
      "Italy Sapienza University of Rome 49.97\n",
      "Spain University of Barcelona 49.79\n",
      "Brazil University of São Paulo 49.31\n",
      "South Africa University of the Witwatersrand 48.75\n",
      "Hong Kong University of Hong Kong 48.15\n",
      "Ireland Trinity College, Dublin 47.73\n",
      "Austria University of Vienna 47.03\n",
      "Portugal University of Lisbon 46.43\n",
      "New Zealand University of Auckland 46.38\n",
      "Czech Republic Charles University in Prague 46.32\n",
      "Greece National and Kapodistrian University of Athens 45.94\n",
      "Thailand Chulalongkorn University 45.86\n",
      "Mexico National Autonomous University of Mexico 45.58\n",
      "India Indian Institute of Technology Delhi 45.54\n",
      "Argentina University of Buenos Aires 45.37\n",
      "Chile Pontifical Catholic University of Chile 45.31\n",
      "Poland Jagiellonian University 44.94\n",
      "Hungary Eötvös Loránd University 44.92\n",
      "Iceland University of Iceland 44.91\n",
      "Turkey Middle East Technical University 44.87\n",
      "Malaysia University of Science, Malaysia 44.84\n",
      "Slovenia University of Ljubljana 44.77\n",
      "Estonia University of Tartu 44.68\n",
      "Croatia University of Zagreb 44.62\n",
      "Saudi Arabia King Saud University 44.59\n",
      "Colombia University of Los Andes (Colombia) 44.43\n",
      "Lebanon American University of Beirut 44.38\n",
      "Slovak Republic Comenius University in Bratislava 44.38\n",
      "Iran Sharif University of Technology 44.37\n",
      "Serbia University of Belgrade 44.33\n",
      "Lithuania Vilnius University 44.25\n",
      "Egypt Cairo University 44.25\n",
      "Bulgaria Sofia University 44.19\n",
      "Uruguay University of the Republic (Uruguay) 44.16\n",
      "Uganda Makerere University 44.16\n",
      "Cyprus University of Cyprus 44.1\n",
      "United Arab Emirates United Arab Emirates University 44.08\n",
      "Puerto Rico University of Puerto Rico at Mayagüez 44.06\n",
      "Romania University of Bucharest 44.04\n"
     ]
    }
   ],
   "source": [
    "res = {}\n",
    "\n",
    "countries = df_2015.country.unique()\n",
    "for c in countries:\n",
    "    df_ = df_2015[df_2015['country'] == c]\n",
    "    score_max_id = df_['score'].idxmax()\n",
    "    name = list(df_2015.loc[[score_max_id]].institution)[0]\n",
    "    score = list(df_2015.loc[[score_max_id]].score)[0]\n",
    "\n",
    "    print(c, name, score)"
   ]
  },
  {
   "cell_type": "markdown",
   "metadata": {},
   "source": [
    "6. Зробіть висновок про те, чи є кореляція у двох останніх величин."
   ]
  },
  {
   "cell_type": "code",
   "execution_count": 351,
   "metadata": {},
   "outputs": [],
   "source": [
    "#"
   ]
  },
  {
   "cell_type": "code",
   "execution_count": 350,
   "metadata": {},
   "outputs": [],
   "source": [
    "#"
   ]
  },
  {
   "cell_type": "markdown",
   "metadata": {},
   "source": [
    "7. Обчисліть п'ять університетів з найбільшим рейтингом, виведіть їх назви, загальний бал, країни, рейтинги в своїй країні."
   ]
  },
  {
   "cell_type": "code",
   "execution_count": 341,
   "metadata": {},
   "outputs": [
    {
     "name": "stdout",
     "output_type": "stream",
     "text": [
      "Назва: Harvard University; загальний бал: 100.0; країнa: USA; рейтинг в своїй країні: 1.\n",
      "Назва: Stanford University; загальний бал: 98.66; країнa: USA; рейтинг в своїй країні: 2.\n",
      "Назва: Massachusetts Institute of Technology; загальний бал: 97.54; країнa: USA; рейтинг в своїй країні: 3.\n",
      "Назва: University of Cambridge; загальний бал: 96.81; країнa: United Kingdom; рейтинг в своїй країні: 1.\n",
      "Назва: University of Oxford; загальний бал: 96.46; країнa: United Kingdom; рейтинг в своїй країні: 2.\n"
     ]
    }
   ],
   "source": [
    "df_2015 = df_2015.sort_values(by=['score'], ascending=False)\n",
    "df_2015_top5 = df_2015.iloc[:5]\n",
    "\n",
    "for row in df_2015_top5.iterrows():\n",
    "    name = row[1][1]\n",
    "    score = row[1][-2]\n",
    "    country = row[1][2]\n",
    "    national_rank = row[1][3]\n",
    "    print(f\"Назва: {name}; загальний бал: {score}; країнa: {country}; рейтинг в своїй країні: {national_rank}.\")"
   ]
  },
  {
   "cell_type": "markdown",
   "metadata": {},
   "source": [
    "8. Випускники яких 5 університетів володіють найбільшим робочим рейтингом?"
   ]
  },
  {
   "cell_type": "code",
   "execution_count": 346,
   "metadata": {},
   "outputs": [
    {
     "data": {
      "text/plain": [
       "['China Pharmaceutical University',\n",
       " 'Masaryk University',\n",
       " 'University of Bari Aldo Moro',\n",
       " 'Liverpool John Moores University',\n",
       " 'Sharif University of Technology']"
      ]
     },
     "execution_count": 346,
     "metadata": {},
     "output_type": "execute_result"
    }
   ],
   "source": [
    "df_2015 = df_2015.sort_values(by=['alumni_employment'], ascending=False)\n",
    "df_2015_top5work = list(df_2015.iloc[:5]['institution'])\n",
    "df_2015_top5work"
   ]
  },
  {
   "cell_type": "markdown",
   "metadata": {},
   "source": [
    "9. Як оцінити вплив окремих рейтингів на загальний. Який із зазначених рейтингів дає найбільший внесок у \n",
    "загальний рейтинг?"
   ]
  },
  {
   "cell_type": "code",
   "execution_count": 349,
   "metadata": {},
   "outputs": [
    {
     "data": {
      "text/html": [
       "<div>\n",
       "<style scoped>\n",
       "    .dataframe tbody tr th:only-of-type {\n",
       "        vertical-align: middle;\n",
       "    }\n",
       "\n",
       "    .dataframe tbody tr th {\n",
       "        vertical-align: top;\n",
       "    }\n",
       "\n",
       "    .dataframe thead th {\n",
       "        text-align: right;\n",
       "    }\n",
       "</style>\n",
       "<table border=\"1\" class=\"dataframe\">\n",
       "  <thead>\n",
       "    <tr style=\"text-align: right;\">\n",
       "      <th></th>\n",
       "      <th>world_rank</th>\n",
       "      <th>national_rank</th>\n",
       "      <th>quality_of_education</th>\n",
       "      <th>alumni_employment</th>\n",
       "      <th>quality_of_faculty</th>\n",
       "      <th>publications</th>\n",
       "      <th>influence</th>\n",
       "      <th>citations</th>\n",
       "      <th>broad_impact</th>\n",
       "      <th>patents</th>\n",
       "      <th>score</th>\n",
       "      <th>year</th>\n",
       "    </tr>\n",
       "  </thead>\n",
       "  <tbody>\n",
       "    <tr>\n",
       "      <th>world_rank</th>\n",
       "      <td>1.000000</td>\n",
       "      <td>0.207617</td>\n",
       "      <td>0.577612</td>\n",
       "      <td>0.586218</td>\n",
       "      <td>0.572304</td>\n",
       "      <td>0.907588</td>\n",
       "      <td>0.876108</td>\n",
       "      <td>0.823055</td>\n",
       "      <td>0.947204</td>\n",
       "      <td>0.639701</td>\n",
       "      <td>-0.554571</td>\n",
       "      <td>NaN</td>\n",
       "    </tr>\n",
       "    <tr>\n",
       "      <th>national_rank</th>\n",
       "      <td>0.207617</td>\n",
       "      <td>1.000000</td>\n",
       "      <td>0.170368</td>\n",
       "      <td>0.078447</td>\n",
       "      <td>0.171665</td>\n",
       "      <td>0.303851</td>\n",
       "      <td>0.123909</td>\n",
       "      <td>0.158244</td>\n",
       "      <td>0.181568</td>\n",
       "      <td>0.104223</td>\n",
       "      <td>-0.176447</td>\n",
       "      <td>NaN</td>\n",
       "    </tr>\n",
       "    <tr>\n",
       "      <th>quality_of_education</th>\n",
       "      <td>0.577612</td>\n",
       "      <td>0.170368</td>\n",
       "      <td>1.000000</td>\n",
       "      <td>0.473653</td>\n",
       "      <td>0.685989</td>\n",
       "      <td>0.521378</td>\n",
       "      <td>0.549574</td>\n",
       "      <td>0.521067</td>\n",
       "      <td>0.517966</td>\n",
       "      <td>0.386652</td>\n",
       "      <td>-0.595771</td>\n",
       "      <td>NaN</td>\n",
       "    </tr>\n",
       "    <tr>\n",
       "      <th>alumni_employment</th>\n",
       "      <td>0.586218</td>\n",
       "      <td>0.078447</td>\n",
       "      <td>0.473653</td>\n",
       "      <td>1.000000</td>\n",
       "      <td>0.390605</td>\n",
       "      <td>0.476797</td>\n",
       "      <td>0.418218</td>\n",
       "      <td>0.449119</td>\n",
       "      <td>0.428065</td>\n",
       "      <td>0.398035</td>\n",
       "      <td>-0.480756</td>\n",
       "      <td>NaN</td>\n",
       "    </tr>\n",
       "    <tr>\n",
       "      <th>quality_of_faculty</th>\n",
       "      <td>0.572304</td>\n",
       "      <td>0.171665</td>\n",
       "      <td>0.685989</td>\n",
       "      <td>0.390605</td>\n",
       "      <td>1.000000</td>\n",
       "      <td>0.537166</td>\n",
       "      <td>0.570487</td>\n",
       "      <td>0.559989</td>\n",
       "      <td>0.553277</td>\n",
       "      <td>0.418088</td>\n",
       "      <td>-0.708048</td>\n",
       "      <td>NaN</td>\n",
       "    </tr>\n",
       "    <tr>\n",
       "      <th>publications</th>\n",
       "      <td>0.907588</td>\n",
       "      <td>0.303851</td>\n",
       "      <td>0.521378</td>\n",
       "      <td>0.476797</td>\n",
       "      <td>0.537166</td>\n",
       "      <td>1.000000</td>\n",
       "      <td>0.845110</td>\n",
       "      <td>0.788885</td>\n",
       "      <td>0.918436</td>\n",
       "      <td>0.616911</td>\n",
       "      <td>-0.521738</td>\n",
       "      <td>NaN</td>\n",
       "    </tr>\n",
       "    <tr>\n",
       "      <th>influence</th>\n",
       "      <td>0.876108</td>\n",
       "      <td>0.123909</td>\n",
       "      <td>0.549574</td>\n",
       "      <td>0.418218</td>\n",
       "      <td>0.570487</td>\n",
       "      <td>0.845110</td>\n",
       "      <td>1.000000</td>\n",
       "      <td>0.808917</td>\n",
       "      <td>0.913889</td>\n",
       "      <td>0.548654</td>\n",
       "      <td>-0.522732</td>\n",
       "      <td>NaN</td>\n",
       "    </tr>\n",
       "    <tr>\n",
       "      <th>citations</th>\n",
       "      <td>0.823055</td>\n",
       "      <td>0.158244</td>\n",
       "      <td>0.521067</td>\n",
       "      <td>0.449119</td>\n",
       "      <td>0.559989</td>\n",
       "      <td>0.788885</td>\n",
       "      <td>0.808917</td>\n",
       "      <td>1.000000</td>\n",
       "      <td>0.850637</td>\n",
       "      <td>0.518144</td>\n",
       "      <td>-0.517301</td>\n",
       "      <td>NaN</td>\n",
       "    </tr>\n",
       "    <tr>\n",
       "      <th>broad_impact</th>\n",
       "      <td>0.947204</td>\n",
       "      <td>0.181568</td>\n",
       "      <td>0.517966</td>\n",
       "      <td>0.428065</td>\n",
       "      <td>0.553277</td>\n",
       "      <td>0.918436</td>\n",
       "      <td>0.913889</td>\n",
       "      <td>0.850637</td>\n",
       "      <td>1.000000</td>\n",
       "      <td>0.580644</td>\n",
       "      <td>-0.527617</td>\n",
       "      <td>NaN</td>\n",
       "    </tr>\n",
       "    <tr>\n",
       "      <th>patents</th>\n",
       "      <td>0.639701</td>\n",
       "      <td>0.104223</td>\n",
       "      <td>0.386652</td>\n",
       "      <td>0.398035</td>\n",
       "      <td>0.418088</td>\n",
       "      <td>0.616911</td>\n",
       "      <td>0.548654</td>\n",
       "      <td>0.518144</td>\n",
       "      <td>0.580644</td>\n",
       "      <td>1.000000</td>\n",
       "      <td>-0.454706</td>\n",
       "      <td>NaN</td>\n",
       "    </tr>\n",
       "    <tr>\n",
       "      <th>score</th>\n",
       "      <td>-0.554571</td>\n",
       "      <td>-0.176447</td>\n",
       "      <td>-0.595771</td>\n",
       "      <td>-0.480756</td>\n",
       "      <td>-0.708048</td>\n",
       "      <td>-0.521738</td>\n",
       "      <td>-0.522732</td>\n",
       "      <td>-0.517301</td>\n",
       "      <td>-0.527617</td>\n",
       "      <td>-0.454706</td>\n",
       "      <td>1.000000</td>\n",
       "      <td>NaN</td>\n",
       "    </tr>\n",
       "    <tr>\n",
       "      <th>year</th>\n",
       "      <td>NaN</td>\n",
       "      <td>NaN</td>\n",
       "      <td>NaN</td>\n",
       "      <td>NaN</td>\n",
       "      <td>NaN</td>\n",
       "      <td>NaN</td>\n",
       "      <td>NaN</td>\n",
       "      <td>NaN</td>\n",
       "      <td>NaN</td>\n",
       "      <td>NaN</td>\n",
       "      <td>NaN</td>\n",
       "      <td>NaN</td>\n",
       "    </tr>\n",
       "  </tbody>\n",
       "</table>\n",
       "</div>"
      ],
      "text/plain": [
       "                      world_rank  national_rank  quality_of_education  \\\n",
       "world_rank              1.000000       0.207617              0.577612   \n",
       "national_rank           0.207617       1.000000              0.170368   \n",
       "quality_of_education    0.577612       0.170368              1.000000   \n",
       "alumni_employment       0.586218       0.078447              0.473653   \n",
       "quality_of_faculty      0.572304       0.171665              0.685989   \n",
       "publications            0.907588       0.303851              0.521378   \n",
       "influence               0.876108       0.123909              0.549574   \n",
       "citations               0.823055       0.158244              0.521067   \n",
       "broad_impact            0.947204       0.181568              0.517966   \n",
       "patents                 0.639701       0.104223              0.386652   \n",
       "score                  -0.554571      -0.176447             -0.595771   \n",
       "year                         NaN            NaN                   NaN   \n",
       "\n",
       "                      alumni_employment  quality_of_faculty  publications  \\\n",
       "world_rank                     0.586218            0.572304      0.907588   \n",
       "national_rank                  0.078447            0.171665      0.303851   \n",
       "quality_of_education           0.473653            0.685989      0.521378   \n",
       "alumni_employment              1.000000            0.390605      0.476797   \n",
       "quality_of_faculty             0.390605            1.000000      0.537166   \n",
       "publications                   0.476797            0.537166      1.000000   \n",
       "influence                      0.418218            0.570487      0.845110   \n",
       "citations                      0.449119            0.559989      0.788885   \n",
       "broad_impact                   0.428065            0.553277      0.918436   \n",
       "patents                        0.398035            0.418088      0.616911   \n",
       "score                         -0.480756           -0.708048     -0.521738   \n",
       "year                                NaN                 NaN           NaN   \n",
       "\n",
       "                      influence  citations  broad_impact   patents     score  \\\n",
       "world_rank             0.876108   0.823055      0.947204  0.639701 -0.554571   \n",
       "national_rank          0.123909   0.158244      0.181568  0.104223 -0.176447   \n",
       "quality_of_education   0.549574   0.521067      0.517966  0.386652 -0.595771   \n",
       "alumni_employment      0.418218   0.449119      0.428065  0.398035 -0.480756   \n",
       "quality_of_faculty     0.570487   0.559989      0.553277  0.418088 -0.708048   \n",
       "publications           0.845110   0.788885      0.918436  0.616911 -0.521738   \n",
       "influence              1.000000   0.808917      0.913889  0.548654 -0.522732   \n",
       "citations              0.808917   1.000000      0.850637  0.518144 -0.517301   \n",
       "broad_impact           0.913889   0.850637      1.000000  0.580644 -0.527617   \n",
       "patents                0.548654   0.518144      0.580644  1.000000 -0.454706   \n",
       "score                 -0.522732  -0.517301     -0.527617 -0.454706  1.000000   \n",
       "year                        NaN        NaN           NaN       NaN       NaN   \n",
       "\n",
       "                      year  \n",
       "world_rank             NaN  \n",
       "national_rank          NaN  \n",
       "quality_of_education   NaN  \n",
       "alumni_employment      NaN  \n",
       "quality_of_faculty     NaN  \n",
       "publications           NaN  \n",
       "influence              NaN  \n",
       "citations              NaN  \n",
       "broad_impact           NaN  \n",
       "patents                NaN  \n",
       "score                  NaN  \n",
       "year                   NaN  "
      ]
     },
     "execution_count": 349,
     "metadata": {},
     "output_type": "execute_result"
    }
   ],
   "source": [
    "df_2015 = df[df['year'] == 2015]\n",
    "df_2015.corr()"
   ]
  },
  {
   "cell_type": "code",
   "execution_count": null,
   "metadata": {},
   "outputs": [],
   "source": []
  }
 ],
 "metadata": {
  "kernelspec": {
   "display_name": "Python 3",
   "language": "python",
   "name": "python3"
  },
  "language_info": {
   "codemirror_mode": {
    "name": "ipython",
    "version": 3
   },
   "file_extension": ".py",
   "mimetype": "text/x-python",
   "name": "python",
   "nbconvert_exporter": "python",
   "pygments_lexer": "ipython3",
   "version": "3.6.9"
  }
 },
 "nbformat": 4,
 "nbformat_minor": 4
}
