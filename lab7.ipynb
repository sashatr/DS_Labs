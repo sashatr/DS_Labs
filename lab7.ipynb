{
 "cells": [
  {
   "cell_type": "markdown",
   "metadata": {},
   "source": [
    "# Комп’ютерний практикум 7. Нейрона мережа для задачі класифікації."
   ]
  },
  {
   "cell_type": "code",
   "execution_count": 1,
   "metadata": {},
   "outputs": [],
   "source": [
    "import torch\n",
    "import random\n",
    "import numpy as np\n",
    "import pandas as pd\n",
    "\n",
    "import sklearn.datasets\n",
    "from sklearn.model_selection import train_test_split\n",
    "from sklearn.datasets import load_breast_cancer\n",
    "\n",
    "import matplotlib.pyplot as plt\n",
    "\n",
    "%matplotlib inline\n",
    "plt.rcParams['figure.figsize'] = (10, 8)"
   ]
  },
  {
   "cell_type": "code",
   "execution_count": 2,
   "metadata": {},
   "outputs": [],
   "source": [
    "random.seed(0)\n",
    "np.random.seed(0)\n",
    "torch.manual_seed(0)\n",
    "torch.cuda.manual_seed(0)\n",
    "torch.backends.cudnn.deterministic = True"
   ]
  },
  {
   "cell_type": "code",
   "execution_count": 3,
   "metadata": {},
   "outputs": [
    {
     "data": {
      "text/plain": [
       "(178, 13)"
      ]
     },
     "execution_count": 3,
     "metadata": {},
     "output_type": "execute_result"
    }
   ],
   "source": [
    "wine = sklearn.datasets.load_wine()\n",
    "wine.data.shape"
   ]
  },
  {
   "cell_type": "code",
   "execution_count": 4,
   "metadata": {},
   "outputs": [
    {
     "name": "stdout",
     "output_type": "stream",
     "text": [
      "(124, 2) (54, 2) (124,) (54,)\n"
     ]
    }
   ],
   "source": [
    "X_train, X_test, y_train, y_test = train_test_split(\n",
    "    wine.data[:, :2],\n",
    "    wine.target,\n",
    "    test_size=0.3,\n",
    "    shuffle=True\n",
    ")\n",
    "print(X_train.shape, X_test.shape, y_train.shape, y_test.shape)"
   ]
  },
  {
   "cell_type": "code",
   "execution_count": 5,
   "metadata": {},
   "outputs": [
    {
     "name": "stdout",
     "output_type": "stream",
     "text": [
      "torch.Size([124, 2]) torch.Size([54, 2]) torch.Size([124]) torch.Size([54])\n"
     ]
    }
   ],
   "source": [
    "X_train = torch.FloatTensor(X_train)\n",
    "X_test = torch.FloatTensor(X_test)\n",
    "\n",
    "y_train = torch.LongTensor(y_train)\n",
    "y_test = torch.LongTensor(y_test)\n",
    "\n",
    "print(X_train.shape, X_test.shape, y_train.shape, y_test.shape)"
   ]
  },
  {
   "cell_type": "code",
   "execution_count": 6,
   "metadata": {},
   "outputs": [],
   "source": [
    "class WineNet(torch.nn.Module):\n",
    "    def __init__(self, n_hidden_neurons):\n",
    "        super(WineNet, self).__init__()\n",
    "\n",
    "        self.fc1 = torch.nn.Linear(2, n_hidden_neurons)\n",
    "        self.activ1 = torch.nn.ReLU()\n",
    "        \n",
    "        self.fc2 = torch.nn.Linear(n_hidden_neurons, n_hidden_neurons)\n",
    "        self.activ2 = torch.nn.ReLU()\n",
    "        \n",
    "        self.fc3 = torch.nn.Linear(n_hidden_neurons, n_hidden_neurons)\n",
    "        self.activ3 = torch.nn.ReLU()\n",
    "        \n",
    "        self.fc4 = torch.nn.Linear(n_hidden_neurons, n_hidden_neurons)\n",
    "        self.activ4 = torch.nn.ReLU()\n",
    "        \n",
    "        self.fc5 = torch.nn.Linear(n_hidden_neurons, 3)\n",
    "        \n",
    "        self.sm = torch.nn.Softmax(dim=1)\n",
    "\n",
    "    def forward(self, x):\n",
    "        x = self.fc1(x)\n",
    "        x = self.activ1(x)\n",
    "        x = self.fc2(x)\n",
    "        x = self.activ2(x)\n",
    "        x = self.fc3(x)\n",
    "        x = self.activ3(x)\n",
    "        x = self.fc4(x)\n",
    "        x = self.activ4(x)\n",
    "        x = self.fc5(x)\n",
    "        return x\n",
    "     \n",
    "    def inference(self, x):\n",
    "        x = self.forward(x)\n",
    "        x = self.sm(x)\n",
    "        return x\n",
    "\n",
    "    \n",
    "wine_net = WineNet(25)"
   ]
  },
  {
   "cell_type": "code",
   "execution_count": 7,
   "metadata": {},
   "outputs": [],
   "source": [
    "loss = torch.nn.CrossEntropyLoss()\n",
    "optimizer = torch.optim.Adam(wine_net.parameters(), lr=1.0e-3)"
   ]
  },
  {
   "cell_type": "code",
   "execution_count": 8,
   "metadata": {},
   "outputs": [
    {
     "name": "stdout",
     "output_type": "stream",
     "text": [
      "0 tensor(0.4074)\n",
      "100 tensor(0.5741)\n",
      "200 tensor(0.7593)\n",
      "300 tensor(0.8519)\n",
      "400 tensor(0.8148)\n",
      "500 tensor(0.8333)\n",
      "600 tensor(0.8704)\n",
      "700 tensor(0.7963)\n",
      "800 tensor(0.7963)\n",
      "900 tensor(0.8148)\n",
      "1000 tensor(0.8519)\n",
      "1100 tensor(0.7963)\n",
      "1200 tensor(0.8889)\n",
      "1300 tensor(0.8333)\n",
      "1400 tensor(0.8333)\n",
      "1500 tensor(0.8148)\n",
      "1600 tensor(0.7963)\n",
      "1700 tensor(0.7963)\n",
      "1800 tensor(0.7778)\n",
      "1900 tensor(0.8333)\n"
     ]
    }
   ],
   "source": [
    "batch_size = 10\n",
    "\n",
    "for epoch in range(2000):\n",
    "    order = np.random.permutation(len(X_train))\n",
    "    \n",
    "    for start_index in range(0, len(X_train), batch_size):\n",
    "        optimizer.zero_grad()\n",
    "        batch_indexes = order[start_index:start_index+batch_size]\n",
    "        x_batch = X_train[batch_indexes]\n",
    "        y_batch = y_train[batch_indexes]\n",
    "\n",
    "        preds = wine_net.forward(x_batch)\n",
    "        loss_value = loss(preds, y_batch)\n",
    "        loss_value.backward()\n",
    "\n",
    "        optimizer.step()\n",
    "        \n",
    "    if epoch % 100 == 0:\n",
    "        test_preds = wine_net.forward(X_test)\n",
    "        test_preds = test_preds.argmax(dim=1)\n",
    "        print(epoch, (test_preds == y_test).float().mean())"
   ]
  },
  {
   "cell_type": "code",
   "execution_count": 9,
   "metadata": {},
   "outputs": [
    {
     "data": {
      "image/png": "[encoded data removed]",
      "text/plain": [
       "<Figure size 720x576 with 1 Axes>"
      ]
     },
     "metadata": {
      "needs_background": "light"
     },
     "output_type": "display_data"
    }
   ],
   "source": [
    "n_classes = 3\n",
    "plot_colors = ['g', 'orange', 'black']\n",
    "plot_step = 0.02\n",
    "\n",
    "x_min, x_max = X_train[:, 0].min() - 1, X_train[:, 0].max() + 1\n",
    "y_min, y_max = X_train[:, 1].min() - 1, X_train[:, 1].max() + 1\n",
    "\n",
    "xx, yy = torch.meshgrid(\n",
    "    torch.arange(x_min, x_max, plot_step), \n",
    "    torch.arange(y_min, y_max, plot_step)\n",
    ")\n",
    "\n",
    "preds = wine_net.inference(\n",
    "    torch.cat([xx.reshape(-1, 1), yy.reshape(-1, 1)], dim=1)\n",
    ")\n",
    "\n",
    "preds_class = preds.data.numpy().argmax(axis=1)\n",
    "preds_class = preds_class.reshape(xx.shape)\n",
    "plt.contourf(xx, yy, preds_class, cmap='Accent')\n",
    "\n",
    "for i, color in zip(range(n_classes), plot_colors):\n",
    "    indexes = np.where(y_train == i)\n",
    "    \n",
    "    plt.scatter(\n",
    "        X_train[indexes, 0],\n",
    "        X_train[indexes, 1],\n",
    "        c=color, \n",
    "        label=wine.target_names[i], \n",
    "        cmap='Accent'\n",
    "    )\n",
    "    \n",
    "    plt.xlabel(wine.feature_names[0])\n",
    "    plt.ylabel(wine.feature_names[1])\n",
    "    plt.legend()"
   ]
  },
  {
   "cell_type": "markdown",
   "metadata": {},
   "source": [
    "# Завдання 1."
   ]
  },
  {
   "cell_type": "markdown",
   "metadata": {},
   "source": [
    "__Виконайте вказані зміни, проаналізуйте результат, вкажіть найкращу конфігурацію:__<br>\n",
    "1) Архітектура нейронної мережі. Ми визначили, що там буде п'ять прихованих нейронів в прихованих шарах, ми могли б поставити якесь інше значення.<br>\n",
    "2) Змінити кількість прихованих шарів (не два, а може бути один, може бути більше ніж два)<br>\n",
    "3) градієнтний спуск Adam, а можна вибрати було SGD, а можна було б щось ще.<br>\n",
    "4) Learning rate ми теж вибирали \"з голови\".<br>\n",
    "5) Функція активації.<br>\n",
    "6) весь набор ознак (зараз ми використовували лише 2, для простої візуалізації)<br>\n",
    "7) інші поліпшення/зміни."
   ]
  },
  {
   "cell_type": "code",
   "execution_count": 10,
   "metadata": {},
   "outputs": [],
   "source": [
    "# Done.\n",
    "\n",
    "# base result - tensor(0.6852)\n",
    "# best result - tensor(0.9259) // all features\n",
    "# best result - 1200 epoch - tensor(0.8889) // two features"
   ]
  },
  {
   "cell_type": "markdown",
   "metadata": {},
   "source": [
    "# Завдання 2."
   ]
  },
  {
   "cell_type": "code",
   "execution_count": 11,
   "metadata": {},
   "outputs": [],
   "source": [
    "# Проаналізуйте тренувальний датасет Breast Cancer Wisconsin (Diagnostic) Data Set та \n",
    "# розробіть модель класифікації (класифікація пухлини – колонка таргету -\n",
    "# Diagnosis (M = malignant(злоякісна), B = benign(доброякісна))).\n",
    "\n",
    "# Проаналізуйте дані, подивіться кореляції, видаліть сильно корелюючі між\n",
    "# собою ознаки (із коефіцієнтом кореляції Пірсона більше ніж 0.9)."
   ]
  },
  {
   "cell_type": "code",
   "execution_count": 12,
   "metadata": {},
   "outputs": [
    {
     "name": "stdout",
     "output_type": "stream",
     "text": [
      "(569, 30) (569,)\n"
     ]
    }
   ],
   "source": [
    "data = load_breast_cancer()\n",
    "X, y = data.data, data.target\n",
    "\n",
    "print(X.shape, y.shape)"
   ]
  },
  {
   "cell_type": "code",
   "execution_count": 13,
   "metadata": {},
   "outputs": [
    {
     "data": {
      "text/plain": [
       "(569, 30)"
      ]
     },
     "execution_count": 13,
     "metadata": {},
     "output_type": "execute_result"
    }
   ],
   "source": [
    "df = pd.DataFrame(X)\n",
    "df.shape"
   ]
  },
  {
   "cell_type": "code",
   "execution_count": 14,
   "metadata": {},
   "outputs": [],
   "source": [
    "def correlation(dataset, threshold):\n",
    "    col_corr = set() # Set of all the names of deleted columns\n",
    "    corr_matrix = dataset.corr(method='pearson')\n",
    "    for i in range(len(corr_matrix.columns)):\n",
    "        for j in range(i):\n",
    "            if (corr_matrix.iloc[i, j] >= threshold) and (corr_matrix.columns[j] not in col_corr):\n",
    "                colname = corr_matrix.columns[i] # getting the name of column\n",
    "                col_corr.add(colname)\n",
    "                if colname in dataset.columns:\n",
    "                    del dataset[colname] # deleting the column from the dataset"
   ]
  },
  {
   "cell_type": "code",
   "execution_count": 15,
   "metadata": {},
   "outputs": [
    {
     "data": {
      "text/plain": [
       "(569, 21)"
      ]
     },
     "execution_count": 15,
     "metadata": {},
     "output_type": "execute_result"
    }
   ],
   "source": [
    "correlation(df, 0.9)\n",
    "X = df.to_numpy()\n",
    "X.shape"
   ]
  },
  {
   "cell_type": "code",
   "execution_count": 16,
   "metadata": {},
   "outputs": [
    {
     "data": {
      "text/plain": [
       "455"
      ]
     },
     "execution_count": 16,
     "metadata": {},
     "output_type": "execute_result"
    }
   ],
   "source": [
    "TRAIN_PART = 0.8\n",
    "train_len = int(X.shape[0] * 0.8)\n",
    "train_len"
   ]
  },
  {
   "cell_type": "code",
   "execution_count": 18,
   "metadata": {},
   "outputs": [
    {
     "name": "stdout",
     "output_type": "stream",
     "text": [
      "<class 'torch.Tensor'> torch.Size([569, 21])\n",
      "<class 'torch.Tensor'> torch.Size([569])\n",
      "torch.Size([455, 21]) torch.Size([114, 21])\n",
      "torch.Size([455]) torch.Size([114])\n"
     ]
    }
   ],
   "source": [
    "features = torch.FloatTensor(X)\n",
    "y = torch.LongTensor(y)\n",
    "\n",
    "# TODO: mix dataset\n",
    "\n",
    "print(type(features), features.shape)\n",
    "print(type(y), y.shape)\n",
    "\n",
    "X_train, X_test = torch.split(features, split_size_or_sections=train_len, dim=0)\n",
    "y_train, y_test = torch.split(y, split_size_or_sections=train_len, dim=0)\n",
    "\n",
    "print(X_train.shape, X_test.shape)\n",
    "print(y_train.shape, y_test.shape)"
   ]
  },
  {
   "cell_type": "code",
   "execution_count": 19,
   "metadata": {},
   "outputs": [
    {
     "data": {
      "text/plain": [
       "CancerNet(\n",
       "  (fc1): Linear(in_features=21, out_features=50, bias=True)\n",
       "  (activ1): ReLU()\n",
       "  (fc2): Linear(in_features=50, out_features=50, bias=True)\n",
       "  (activ2): ReLU()\n",
       "  (fc3): Linear(in_features=50, out_features=50, bias=True)\n",
       "  (activ3): ReLU()\n",
       "  (fc4): Linear(in_features=50, out_features=50, bias=True)\n",
       "  (activ4): ReLU()\n",
       "  (fc5): Linear(in_features=50, out_features=2, bias=True)\n",
       "  (sm): Softmax(dim=1)\n",
       ")"
      ]
     },
     "execution_count": 19,
     "metadata": {},
     "output_type": "execute_result"
    }
   ],
   "source": [
    "class CancerNet(torch.nn.Module):\n",
    "    def __init__(self, n_hidden_neurons):\n",
    "        super(CancerNet, self).__init__()\n",
    "\n",
    "        self.fc1 = torch.nn.Linear(21, n_hidden_neurons)\n",
    "        self.activ1 = torch.nn.ReLU()\n",
    "        \n",
    "        self.fc2 = torch.nn.Linear(n_hidden_neurons, n_hidden_neurons)\n",
    "        self.activ2 = torch.nn.ReLU()\n",
    "        \n",
    "        self.fc3 = torch.nn.Linear(n_hidden_neurons, n_hidden_neurons)\n",
    "        self.activ3 = torch.nn.ReLU()\n",
    "        \n",
    "        self.fc4 = torch.nn.Linear(n_hidden_neurons, n_hidden_neurons)\n",
    "        self.activ4 = torch.nn.ReLU()\n",
    "        \n",
    "        self.fc5 = torch.nn.Linear(n_hidden_neurons, 2)\n",
    "        \n",
    "        self.sm = torch.nn.Softmax(dim=1)\n",
    "\n",
    "    def forward(self, x):\n",
    "        x = self.fc1(x)\n",
    "        x = self.activ1(x)\n",
    "        x = self.fc2(x)\n",
    "        x = self.activ2(x)\n",
    "        x = self.fc3(x)\n",
    "        x = self.activ3(x)\n",
    "        x = self.fc4(x)\n",
    "        x = self.activ4(x)\n",
    "        x = self.fc5(x)\n",
    "        return x\n",
    "     \n",
    "    def inference(self, x):\n",
    "        x = self.forward(x)\n",
    "        x = self.sm(x)\n",
    "        return x\n",
    "\n",
    "    \n",
    "cancer_net = CancerNet(50)\n",
    "cancer_net"
   ]
  },
  {
   "cell_type": "code",
   "execution_count": 20,
   "metadata": {},
   "outputs": [],
   "source": [
    "loss = torch.nn.CrossEntropyLoss()\n",
    "optimizer = torch.optim.Adam(cancer_net.parameters(), lr=1.0e-3)"
   ]
  },
  {
   "cell_type": "code",
   "execution_count": 21,
   "metadata": {},
   "outputs": [
    {
     "name": "stdout",
     "output_type": "stream",
     "text": [
      "0 tensor(0.8333)\n",
      "100 tensor(0.9737)\n",
      "200 tensor(0.9825)\n",
      "300 tensor(0.9737)\n",
      "400 tensor(0.9737)\n",
      "500 tensor(0.9386)\n",
      "600 tensor(0.9825)\n",
      "700 tensor(0.9561)\n",
      "800 tensor(0.9386)\n",
      "900 tensor(0.9561)\n",
      "1000 tensor(0.8772)\n",
      "1100 tensor(0.9825)\n",
      "1200 tensor(0.9123)\n",
      "1300 tensor(0.9561)\n",
      "1400 tensor(0.9912)\n",
      "1500 tensor(0.9474)\n",
      "1600 tensor(0.9825)\n",
      "1700 tensor(0.9649)\n",
      "1800 tensor(0.9737)\n",
      "1900 tensor(0.9649)\n"
     ]
    }
   ],
   "source": [
    "batch_size = 18\n",
    "\n",
    "for epoch in range(2000):\n",
    "    order = np.random.permutation(len(X_train))\n",
    "\n",
    "    for start_index in range(0, len(X_train), batch_size):\n",
    "        optimizer.zero_grad()\n",
    "        batch_indexes = order[start_index:start_index+batch_size]\n",
    "        x_batch = X_train[batch_indexes]\n",
    "        y_batch = y_train[batch_indexes]\n",
    "        \n",
    "        preds = cancer_net.forward(x_batch)\n",
    "        loss_value = loss(preds, y_batch)\n",
    "        loss_value.backward()\n",
    "\n",
    "        optimizer.step()\n",
    "\n",
    "    if epoch % 100 == 0:\n",
    "        test_preds = cancer_net.forward(X_test)\n",
    "        test_preds = test_preds.argmax(dim=1)\n",
    "        print(epoch, (test_preds == y_test).float().mean())"
   ]
  }
 ],
 "metadata": {
  "kernelspec": {
   "display_name": "Python 3",
   "language": "python",
   "name": "python3"
  },
  "language_info": {
   "codemirror_mode": {
    "name": "ipython",
    "version": 3
   },
   "file_extension": ".py",
   "mimetype": "text/x-python",
   "name": "python",
   "nbconvert_exporter": "python",
   "pygments_lexer": "ipython3",
   "version": "3.6.9"
  }
 },
 "nbformat": 4,
 "nbformat_minor": 4
}
